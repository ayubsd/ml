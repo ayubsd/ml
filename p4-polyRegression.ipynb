{
 "cells": [
  {
   "cell_type": "markdown",
   "metadata": {
    "id": "94ZkIUZotUJw"
   },
   "source": [
    "#Polynomial regression"
   ]
  },
  {
   "cell_type": "code",
   "execution_count": 1,
   "metadata": {
    "executionInfo": {
     "elapsed": 4,
     "status": "ok",
     "timestamp": 1746355372917,
     "user": {
      "displayName": "VISHAL KMV",
      "userId": "16879913650905730729"
     },
     "user_tz": -330
    },
    "id": "OCz-Nvd1tXYw"
   },
   "outputs": [],
   "source": [
    "#generating dataset\n",
    "import numpy as np\n",
    "\n",
    "np.random.seed(0)\n",
    "x = np.random.rand(100,1)*10\n",
    "y = 2*x**2 - 0.5*x + 5 + np.random.randn(100,1)*10\n"
   ]
  },
  {
   "cell_type": "code",
   "execution_count": 2,
   "metadata": {
    "executionInfo": {
     "elapsed": 2,
     "status": "ok",
     "timestamp": 1746355372922,
     "user": {
      "displayName": "VISHAL KMV",
      "userId": "16879913650905730729"
     },
     "user_tz": -330
    },
    "id": "HvAkwhM8yH6p"
   },
   "outputs": [],
   "source": [
    "#creating polynomial features\n",
    "from sklearn.preprocessing import PolynomialFeatures\n",
    "poly = PolynomialFeatures(degree=2)\n",
    "x_poly = poly.fit_transform(x)"
   ]
  },
  {
   "cell_type": "code",
   "execution_count": 3,
   "metadata": {
    "executionInfo": {
     "elapsed": 18,
     "status": "ok",
     "timestamp": 1746355372954,
     "user": {
      "displayName": "VISHAL KMV",
      "userId": "16879913650905730729"
     },
     "user_tz": -330
    },
    "id": "Ml_WcHBPtwZk"
   },
   "outputs": [],
   "source": [
    "#splitting into training and testing\n",
    "from sklearn.model_selection import train_test_split\n",
    "\n",
    "x_train, x_test, y_train, y_test = train_test_split(x_poly, y, test_size=0.2, random_state=100)"
   ]
  },
  {
   "cell_type": "code",
   "execution_count": 4,
   "metadata": {
    "colab": {
     "base_uri": "https://localhost:8080/"
    },
    "executionInfo": {
     "elapsed": 29,
     "status": "ok",
     "timestamp": 1746355372979,
     "user": {
      "displayName": "VISHAL KMV",
      "userId": "16879913650905730729"
     },
     "user_tz": -330
    },
    "id": "p6T-jLZIt2Jj",
    "outputId": "8bc0d90b-6a98-4140-e61d-3dee34b4e23f"
   },
   "outputs": [
    {
     "name": "stdout",
     "output_type": "stream",
     "text": [
      "MSE : 111.15632862966075\n",
      "R2 Score :  0.9484220287274809\n"
     ]
    }
   ],
   "source": [
    "#regression model\n",
    "from sklearn.linear_model import LinearRegression\n",
    "from sklearn.metrics import mean_squared_error, r2_score\n",
    "\n",
    "\n",
    "model = LinearRegression()\n",
    "model.fit(x_train, y_train)\n",
    "\n",
    "y_pred = model.predict(x_test)\n",
    "\n",
    "mse = mean_squared_error(y_test, y_pred)\n",
    "r2 = r2_score(y_test, y_pred)\n",
    "\n",
    "print(\"MSE :\",mse)\n",
    "print(\"R2 Score : \",r2)"
   ]
  },
  {
   "cell_type": "code",
   "execution_count": 5,
   "metadata": {
    "colab": {
     "base_uri": "https://localhost:8080/"
    },
    "executionInfo": {
     "elapsed": 7,
     "status": "ok",
     "timestamp": 1746355372987,
     "user": {
      "displayName": "VISHAL KMV",
      "userId": "16879913650905730729"
     },
     "user_tz": -330
    },
    "id": "JEy2hT4cxTE7",
    "outputId": "c54e49f1-a8f7-4554-b73a-97b06e9c50f8"
   },
   "outputs": [
    {
     "name": "stdout",
     "output_type": "stream",
     "text": [
      "Average MSE in K cross validation : 104.33746021763348\n",
      "Average R2 score in K cross validation : 0.9636365931804299\n"
     ]
    }
   ],
   "source": [
    "#K cross validation\n",
    "from sklearn.model_selection import cross_val_score\n",
    "mse_scores = -cross_val_score(model, x_poly, y, cv=5, scoring='neg_mean_squared_error')\n",
    "r2_scores = cross_val_score(model, x_poly, y, cv=5, scoring='r2')\n",
    "\n",
    "print(\"Average MSE in K cross validation :\",mse_scores.mean())\n",
    "print(\"Average R2 score in K cross validation :\",r2_scores.mean())"
   ]
  },
  {
   "cell_type": "code",
   "execution_count": 6,
   "metadata": {
    "colab": {
     "base_uri": "https://localhost:8080/",
     "height": 449
    },
    "executionInfo": {
     "elapsed": 192,
     "status": "ok",
     "timestamp": 1746355373180,
     "user": {
      "displayName": "VISHAL KMV",
      "userId": "16879913650905730729"
     },
     "user_tz": -330
    },
    "id": "IiDB9usSzQaZ",
    "outputId": "9a60ae29-4dba-4b85-d5d8-8a2a9eca12be"
   },
   "outputs": [
    {
     "data": {
      "image/png": "[encoded data removed]",
      "text/plain": [
       "<Figure size 640x480 with 1 Axes>"
      ]
     },
     "metadata": {},
     "output_type": "display_data"
    }
   ],
   "source": [
    "#visualization\n",
    "import matplotlib.pyplot as plt\n",
    "\n",
    "plt.scatter(x, y, color='blue', label = 'original data')\n",
    "x_range = np.linspace(x.min(), x.max(), 100).reshape(-1,1)\n",
    "x_range_poly = poly.transform(x_range)\n",
    "plt.plot(x_range , model.predict(x_range_poly), color='red', label = 'polynomial regression')\n",
    "plt.xlabel('x')\n",
    "plt.ylabel('y')\n",
    "plt.legend()\n",
    "plt.show()\n"
   ]
  },
  {
   "cell_type": "code",
   "execution_count": 87,
   "metadata": {
    "executionInfo": {
     "elapsed": 6,
     "status": "ok",
     "timestamp": 1746355373191,
     "user": {
      "displayName": "VISHAL KMV",
      "userId": "16879913650905730729"
     },
     "user_tz": -330
    },
    "id": "hayVfGNZzkGS"
   },
   "outputs": [],
   "source": []
  }
 ],
 "metadata": {
  "colab": {
   "authorship_tag": "ABX9TyPlTbNqucq+Q+m2Y+hcgvnP",
   "provenance": []
  },
  "kernelspec": {
   "display_name": "Python 3",
   "name": "python3"
  },
  "language_info": {
   "codemirror_mode": {
    "name": "ipython",
    "version": 3
   },
   "file_extension": ".py",
   "mimetype": "text/x-python",
   "name": "python",
   "nbconvert_exporter": "python",
   "pygments_lexer": "ipython3",
   "version": "3.13.1"
  }
 },
 "nbformat": 4,
 "nbformat_minor": 0
}
