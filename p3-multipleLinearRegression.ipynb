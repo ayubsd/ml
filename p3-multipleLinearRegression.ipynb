{
  "cells": [
    {
      "cell_type": "code",
      "execution_count": 1,
      "metadata": {
        "colab": {
          "base_uri": "https://localhost:8080/"
        },
        "id": "6iKIvFOVd9Lw",
        "outputId": "a5ef0672-fee1-418f-c0f9-7c3a568f889a"
      },
      "outputs": [
        {
          "name": "stdout",
          "output_type": "stream",
          "text": [
            "X: [[   8.3252       41.            6.98412698 ...    2.55555556\n",
            "    37.88       -122.23      ]\n",
            " [   8.3014       21.            6.23813708 ...    2.10984183\n",
            "    37.86       -122.22      ]\n",
            " [   7.2574       52.            8.28813559 ...    2.80225989\n",
            "    37.85       -122.24      ]\n",
            " ...\n",
            " [   1.7          17.            5.20554273 ...    2.3256351\n",
            "    39.43       -121.22      ]\n",
            " [   1.8672       18.            5.32951289 ...    2.12320917\n",
            "    39.43       -121.32      ]\n",
            " [   2.3886       16.            5.25471698 ...    2.61698113\n",
            "    39.37       -121.24      ]]\n",
            "Y: [4.526 3.585 3.521 ... 0.923 0.847 0.894]\n"
          ]
        }
      ],
      "source": [
        "from sklearn.datasets import fetch_california_housing\n",
        "from sklearn.linear_model import LinearRegression\n",
        "from sklearn.metrics import mean_squared_error,r2_score\n",
        "from sklearn.model_selection import train_test_split\n",
        "import pandas as pd\n",
        "\n",
        "# Load the dataset\n",
        "\n",
        "data = fetch_california_housing()\n",
        "x=data.data\n",
        "y=data.target\n",
        "\n",
        "print(\"X:\",x)\n",
        "print(\"Y:\",y)"
      ]
    },
    {
      "cell_type": "code",
      "execution_count": 2,
      "metadata": {
        "id": "QRu1UuQRgyrg"
      },
      "outputs": [],
      "source": [
        "# Split data\n",
        "# test_size = 0.3 means training data set = 70% and test_data is 30%\n",
        "X_train,X_test,Y_train,Y_test=train_test_split(x,y,test_size=0.3,random_state=42)"
      ]
    },
    {
      "cell_type": "code",
      "execution_count": 3,
      "metadata": {
        "colab": {
          "base_uri": "https://localhost:8080/"
        },
        "id": "QApXFdMkhMcb",
        "outputId": "e75fa8d0-1e8a-4566-dbcb-08795244f654"
      },
      "outputs": [
        {
          "name": "stdout",
          "output_type": "stream",
          "text": [
            "MSE  0.5305677824766757\n",
            "R2 socre :  0.595770232606166\n"
          ]
        }
      ],
      "source": [
        "# Train model\n",
        "mlr=LinearRegression()\n",
        "mlr.fit(X_train,Y_train)\n",
        "\n",
        "# Evaluation\n",
        "Y_pred=mlr.predict(X_test)\n",
        "print(\"MSE \",mean_squared_error(Y_test,Y_pred))\n",
        "print(\"R2 socre : \",r2_score(Y_test,Y_pred))"
      ]
    },
    {
      "cell_type": "code",
      "execution_count": 4,
      "metadata": {
        "colab": {
          "base_uri": "https://localhost:8080/"
        },
        "id": "XnbDSBL9hxYy",
        "outputId": "f6378a31-f846-4ff7-bc34-eb01cf1fe18d"
      },
      "outputs": [
        {
          "name": "stdout",
          "output_type": "stream",
          "text": [
            "\n",
            "Feature Importance:\n",
            "       Feature   Coefficient\n",
            "3   AveBedrms  7.785996e-01\n",
            "0      MedInc  4.458226e-01\n",
            "1    HouseAge  9.681868e-03\n",
            "4  Population -7.757404e-07\n",
            "5    AveOccup -3.370027e-03\n",
            "2    AveRooms -1.220951e-01\n",
            "6    Latitude -4.185367e-01\n",
            "7   Longitude -4.336880e-01\n"
          ]
        }
      ],
      "source": [
        "importance = pd.DataFrame({'Feature': data.feature_names, 'Coefficient': mlr.coef_})\n",
        "print(\"\\nFeature Importance:\\n\", importance.sort_values('Coefficient', ascending=False))"
      ]
    },
    {
      "cell_type": "code",
      "execution_count": null,
      "metadata": {
        "id": "QaQ6y5e3ivRu"
      },
      "outputs": [],
      "source": []
    }
  ],
  "metadata": {
    "colab": {
      "provenance": []
    },
    "kernelspec": {
      "display_name": "Python 3",
      "name": "python3"
    },
    "language_info": {
      "codemirror_mode": {
        "name": "ipython",
        "version": 3
      },
      "file_extension": ".py",
      "mimetype": "text/x-python",
      "name": "python",
      "nbconvert_exporter": "python",
      "pygments_lexer": "ipython3",
      "version": "3.13.1"
    }
  },
  "nbformat": 4,
  "nbformat_minor": 0
}
