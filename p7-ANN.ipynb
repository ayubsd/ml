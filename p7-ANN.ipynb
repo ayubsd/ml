{
 "cells": [
  {
   "cell_type": "markdown",
   "metadata": {
    "id": "YbxF1EkZwXut"
   },
   "source": [
    "#Neural Network for AND operation"
   ]
  },
  {
   "cell_type": "code",
   "execution_count": 1,
   "metadata": {
    "colab": {
     "base_uri": "https://localhost:8080/"
    },
    "executionInfo": {
     "elapsed": 39,
     "status": "ok",
     "timestamp": 1746470710859,
     "user": {
      "displayName": "VISHAL KMV",
      "userId": "16879913650905730729"
     },
     "user_tz": -330
    },
    "id": "NoFT73Jxu6o4",
    "outputId": "9b1e381b-b8fa-43a9-c61c-8f9303224fc6"
   },
   "outputs": [
    {
     "name": "stdout",
     "output_type": "stream",
     "text": [
      "Epoch 0: Loss = 0.2556, Weights = [[ 0.49205256 -0.13988608]], Bias = -0.0287\n",
      "Epoch 100: Loss = 0.1399, Weights = [[0.73039188 0.42688412]], Bias = -1.2337\n",
      "Epoch 200: Loss = 0.1034, Weights = [[1.09834773 0.95318734]], Bias = -1.7881\n",
      "Epoch 300: Loss = 0.0823, Weights = [[1.39225384 1.32052233]], Bias = -2.2325\n",
      "Epoch 400: Loss = 0.0683, Weights = [[1.63995277 1.60298357]], Bias = -2.6041\n",
      "Epoch 500: Loss = 0.0581, Weights = [[1.854819   1.83490844]], Bias = -2.9237\n",
      "Epoch 600: Loss = 0.0504, Weights = [[2.04426444 2.03307538]], Bias = -3.2041\n",
      "Epoch 700: Loss = 0.0443, Weights = [[2.21324422 2.20670217]], Bias = -3.4538\n",
      "Epoch 800: Loss = 0.0394, Weights = [[2.36537845 2.36141214]], Bias = -3.6784\n",
      "Epoch 900: Loss = 0.0354, Weights = [[2.5034288  2.50094366]], Bias = -3.8822\n",
      "Epoch 1000: Loss = 0.0321, Weights = [[2.629556   2.62795193]], Bias = -4.0686\n",
      "\n",
      "Final Testing (After Training):\n",
      "Input : [0 0]  Predicted : 0\n",
      "Input : [0 1]  Predicted : 0\n",
      "Input : [1 0]  Predicted : 0\n",
      "Input : [1 1]  Predicted : 1\n"
     ]
    }
   ],
   "source": [
    "import numpy as np\n",
    "\n",
    "def sigmoid(z):\n",
    "    return 1 / (1 + np.exp(-z))\n",
    "\n",
    "def sigmoid_derivative(a):\n",
    "    return a * (1 - a)\n",
    "\n",
    "inputs = np.array([\n",
    "    [0, 0],\n",
    "    [0, 1],\n",
    "    [1, 0],\n",
    "    [1, 1]\n",
    "])\n",
    "\n",
    "expected_output = np.array([\n",
    "    [0],\n",
    "    [0],\n",
    "    [0],\n",
    "    [1]\n",
    "])\n",
    "\n",
    "np.random.seed(42)\n",
    "weights = np.random.randn(2, 1)\n",
    "bias = 0.0\n",
    "learning_rate = 0.1\n",
    "epochs = 1001\n",
    "\n",
    "for epoch in range(epochs):\n",
    "    z = np.dot(inputs, weights) + bias\n",
    "    predictions = sigmoid(z)\n",
    "    error = expected_output - predictions\n",
    "    d_predictions = error * sigmoid_derivative(predictions)\n",
    "    gradient_w = np.dot(inputs.T, d_predictions)\n",
    "    gradient_b = np.sum(d_predictions)\n",
    "    weights += learning_rate * gradient_w\n",
    "    bias += learning_rate * gradient_b\n",
    "    if epoch % 100 == 0:\n",
    "        loss = np.mean(error ** 2)\n",
    "        print(f\"Epoch {epoch}: Loss = {loss:.4f}, Weights = {weights.T}, Bias = {bias:.4f}\")\n",
    "\n",
    "print(\"\\nFinal Testing (After Training):\")\n",
    "for x in inputs:\n",
    "    z = np.dot(x, weights) + bias\n",
    "    y_pred = sigmoid(z)\n",
    "    print(\"Input :\",x,\" Predicted :\",round(y_pred[0]))\n"
   ]
  },
  {
   "cell_type": "markdown",
   "metadata": {
    "id": "hJksQ5qkwhRF"
   },
   "source": [
    "#Neural Network for OR operation"
   ]
  },
  {
   "cell_type": "code",
   "execution_count": 2,
   "metadata": {
    "colab": {
     "base_uri": "https://localhost:8080/"
    },
    "executionInfo": {
     "elapsed": 43,
     "status": "ok",
     "timestamp": 1746470710912,
     "user": {
      "displayName": "VISHAL KMV",
      "userId": "16879913650905730729"
     },
     "user_tz": -330
    },
    "id": "ruNcHXIxvrFW",
    "outputId": "f1a42214-1c7c-4077-de48-1b4be89f28df"
   },
   "outputs": [
    {
     "name": "stdout",
     "output_type": "stream",
     "text": [
      "Epoch 0: Loss = 0.2563, Weights = [[ 0.49135794 -0.13921903]], Bias = 0.0204\n",
      "Epoch 100: Loss = 0.1545, Weights = [[-0.26647714 -0.56425582]], Bias = 1.0689\n",
      "Epoch 200: Loss = 0.1112, Weights = [[-0.84658523 -0.98822524]], Bias = 1.6493\n",
      "Epoch 300: Loss = 0.0872, Weights = [[-1.23893033 -1.30818633]], Bias = 2.1186\n",
      "Epoch 400: Loss = 0.0716, Weights = [[-1.53581116 -1.57107713]], Bias = 2.5077\n",
      "Epoch 500: Loss = 0.0606, Weights = [[-1.7773834  -1.79614885]], Bias = 2.8401\n",
      "Epoch 600: Loss = 0.0523, Weights = [[-1.98263983 -1.99306535]], Bias = 3.1304\n",
      "Epoch 700: Loss = 0.0459, Weights = [[-2.16178963 -2.16782113]], Bias = 3.3878\n",
      "Epoch 800: Loss = 0.0407, Weights = [[-2.32096467 -2.32458638]], Bias = 3.6188\n",
      "Epoch 900: Loss = 0.0365, Weights = [[-2.46419655 -2.46644606]], Bias = 3.8280\n",
      "Epoch 1000: Loss = 0.0329, Weights = [[-2.5943262 -2.5957668]], Bias = 4.0189\n",
      "\n",
      "Final Testing (After Training):\n",
      "Input : [0 0]  Predicted : 1\n",
      "Input : [0 1]  Predicted : 1\n",
      "Input : [1 0]  Predicted : 1\n",
      "Input : [1 1]  Predicted : 0\n"
     ]
    }
   ],
   "source": [
    "inputs = np.array([\n",
    "    [0, 0],\n",
    "    [0, 1],\n",
    "    [1, 0],\n",
    "    [1, 1]\n",
    "])\n",
    "\n",
    "expected_output = np.array([\n",
    "    [1],\n",
    "    [1],\n",
    "    [1],\n",
    "    [0]\n",
    "])\n",
    "\n",
    "np.random.seed(42)\n",
    "weights = np.random.randn(2, 1)\n",
    "bias = 0.0\n",
    "learning_rate = 0.1\n",
    "epochs = 1001\n",
    "\n",
    "for epoch in range(epochs):\n",
    "    z = np.dot(inputs, weights) + bias\n",
    "    predictions = sigmoid(z)\n",
    "    error = expected_output - predictions\n",
    "    d_predictions = error * sigmoid_derivative(predictions)\n",
    "    gradient_w = np.dot(inputs.T, d_predictions)\n",
    "    gradient_b = np.sum(d_predictions)\n",
    "    weights += learning_rate * gradient_w\n",
    "    bias += learning_rate * gradient_b\n",
    "    if epoch % 100 == 0:\n",
    "        loss = np.mean(error ** 2)\n",
    "        print(f\"Epoch {epoch}: Loss = {loss:.4f}, Weights = {weights.T}, Bias = {bias:.4f}\")\n",
    "\n",
    "print(\"\\nFinal Testing (After Training):\")\n",
    "for x in inputs:\n",
    "    z = np.dot(x, weights) + bias\n",
    "    y_pred = sigmoid(z)\n",
    "    print(\"Input :\",x,\" Predicted :\",round(y_pred[0]))\n"
   ]
  },
  {
   "cell_type": "code",
   "execution_count": null,
   "metadata": {},
   "outputs": [],
   "source": []
  }
 ],
 "metadata": {
  "colab": {
   "provenance": []
  },
  "kernelspec": {
   "display_name": "Python 3",
   "name": "python3"
  },
  "language_info": {
   "codemirror_mode": {
    "name": "ipython",
    "version": 3
   },
   "file_extension": ".py",
   "mimetype": "text/x-python",
   "name": "python",
   "nbconvert_exporter": "python",
   "pygments_lexer": "ipython3",
   "version": "3.13.1"
  }
 },
 "nbformat": 4,
 "nbformat_minor": 0
}
